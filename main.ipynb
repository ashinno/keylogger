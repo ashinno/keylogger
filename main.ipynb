{
 "cells": [
  {
   "cell_type": "code",
   "id": "initial_id",
   "metadata": {
    "collapsed": true,
    "jupyter": {
     "is_executing": true
    },
    "ExecuteTime": {
     "start_time": "2024-12-25T08:55:26.494102Z"
    }
   },
   "source": [
    "import pynput  # Library for capturing keyboard input\n",
    "import time\n",
    "from collections import defaultdict\n",
    "\n",
    "# Data structure to hold keystroke timing information\n",
    "keystrokes = defaultdict(list)\n",
    "start_time = time.time()\n",
    "\n",
    "def on_press(key):\n",
    "    current_time = time.time()\n",
    "    try:\n",
    "        keystrokes[key.char].append((current_time - start_time, 'press'))\n",
    "    except AttributeError:\n",
    "        keystrokes[str(key)].append((current_time - start_time, 'press'))  # For special keys\n",
    "\n",
    "def on_release(key):\n",
    "    current_time = time.time()\n",
    "    try:\n",
    "        keystrokes[key.char].append((current_time - start_time, 'release'))\n",
    "    except AttributeError:\n",
    "        keystrokes[str(key)].append((current_time - start_time, 'release'))\n",
    "\n",
    "    # Stop listener if 'esc' is pressed (for testing, remove in production)\n",
    "    if key == pynput.keyboard.Key.esc:\n",
    "        return False\n",
    "\n",
    "# Start listener\n",
    "listener = pynput.keyboard.Listener(on_press=on_press, on_release=on_release)\n",
    "listener.start()\n",
    "listener.join()\n",
    "\n",
    "# Save data securely (implement encryption)\n",
    "import json\n",
    "from cryptography.fernet import Fernet\n",
    "\n",
    "key = Fernet.generate_key()\n",
    "cipher_suite = Fernet(key)\n",
    "encrypted_data = cipher_suite.encrypt(json.dumps(keystrokes).encode())\n",
    "\n",
    "# Save to file\n",
    "with open('keystrokes_data.enc', 'wb') as file:\n",
    "    file.write(encrypted_data)"
   ],
   "outputs": [],
   "execution_count": null
  },
  {
   "metadata": {},
   "cell_type": "code",
   "outputs": [],
   "execution_count": null,
   "source": [
    "def extract_features(data):\n",
    "    features = []\n",
    "    for key, events in data.items():\n",
    "        for i in range(0, len(events) - 1, 2):  # Step by 2 to pair press and release\n",
    "            if i + 1 < len(events):\n",
    "                press_time, _ = events[i]\n",
    "                release_time, _ = events[i + 1]\n",
    "                hold_time = release_time - press_time\n",
    "                if i + 2 < len(events):\n",
    "                    next_press_time, _ = events[i + 2]\n",
    "                    flight_time = next_press_time - release_time\n",
    "                    features.append([hold_time, flight_time])\n",
    "    return features\n",
    "\n",
    "features = extract_features(keystrokes)"
   ],
   "id": "75a4bb57fb8b7d12"
  },
  {
   "metadata": {},
   "cell_type": "code",
   "outputs": [],
   "execution_count": null,
   "source": [
    "from sklearn.ensemble import IsolationForest\n",
    "import numpy as np\n",
    "\n",
    "# Convert list of lists to numpy array for sklearn\n",
    "X = np.array(features)\n",
    "\n",
    "# Train the model\n",
    "model = IsolationForest(contamination=0.1, random_state=42)\n",
    "model.fit(X)\n",
    "\n",
    "# Save the model for later use\n",
    "import joblib\n",
    "joblib.dump(model, 'isolation_forest_model.joblib')"
   ],
   "id": "a0fbb3993a87274"
  },
  {
   "metadata": {},
   "cell_type": "code",
   "outputs": [],
   "execution_count": null,
   "source": [
    "# Load the model\n",
    "loaded_model = joblib.load('isolation_forest_model.joblib')\n",
    "\n",
    "# Simulate real-time input (in reality, this would be from live keystrokes)\n",
    "new_keystrokes = extract_features(keystrokes)  # This would be real-time data\n",
    "new_data = np.array(new_keystrokes)\n",
    "\n",
    "# Predict if the new data points are anomalies\n",
    "predictions = loaded_model.predict(new_data)\n",
    "\n",
    "# Alert on anomalies\n",
    "for i, pred in enumerate(predictions):\n",
    "    if pred == -1:  # -1 indicates an anomaly in Isolation Forest\n",
    "        print(f\"Anomaly detected at index {i} with data {new_data[i]}\")"
   ],
   "id": "560e625866c8cb62"
  }
 ],
 "metadata": {
  "kernelspec": {
   "display_name": "Python 3",
   "language": "python",
   "name": "python3"
  },
  "language_info": {
   "codemirror_mode": {
    "name": "ipython",
    "version": 2
   },
   "file_extension": ".py",
   "mimetype": "text/x-python",
   "name": "python",
   "nbconvert_exporter": "python",
   "pygments_lexer": "ipython2",
   "version": "2.7.6"
  }
 },
 "nbformat": 4,
 "nbformat_minor": 5
}
