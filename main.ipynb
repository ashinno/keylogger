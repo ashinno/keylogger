{
 "cells": [
  {
   "cell_type": "code",
   "id": "initial_id",
   "metadata": {
    "collapsed": true,
    "ExecuteTime": {
     "end_time": "2024-12-26T00:50:31.786895Z",
     "start_time": "2024-12-26T00:06:42.692414Z"
    }
   },
   "source": [
    "import pynput  # Library for capturing keyboard input\n",
    "import time\n",
    "from collections import defaultdict\n",
    "\n",
    "# Data structure to hold keystroke timing information\n",
    "keystrokes = defaultdict(list)\n",
    "start_time = time.time()\n",
    "\n",
    "def on_press(key):\n",
    "    current_time = time.time()\n",
    "    try:\n",
    "        keystrokes[key.char].append((current_time - start_time, 'press'))\n",
    "    except AttributeError:\n",
    "        keystrokes[str(key)].append((current_time - start_time, 'press'))  # For special keys\n",
    "\n",
    "def on_release(key):\n",
    "    current_time = time.time()\n",
    "    try:\n",
    "        keystrokes[key.char].append((current_time - start_time, 'release'))\n",
    "    except AttributeError:\n",
    "        keystrokes[str(key)].append((current_time - start_time, 'release'))\n",
    "\n",
    "    # Stop listener if 'esc' is pressed (for testing, remove in production)\n",
    "    if key == pynput.keyboard.Key.esc:\n",
    "        return False\n",
    "\n",
    "# Start listener\n",
    "listener = pynput.keyboard.Listener(on_press=on_press, on_release=on_release)\n",
    "listener.start()\n",
    "listener.join()\n",
    "\n",
    "# Save data securely (implement encryption)\n",
    "import json\n",
    "from cryptography.fernet import Fernet\n",
    "\n",
    "key = Fernet.generate_key()\n",
    "cipher_suite = Fernet(key)\n",
    "encrypted_data = cipher_suite.encrypt(json.dumps(keystrokes).encode())\n",
    "\n",
    "# Save to file\n",
    "with open('keystrokes_data.enc', 'wb') as file:\n",
    "    file.write(encrypted_data)"
   ],
   "outputs": [],
   "execution_count": 1
  },
  {
   "metadata": {
    "ExecuteTime": {
     "end_time": "2024-12-26T00:50:36.571047Z",
     "start_time": "2024-12-26T00:50:36.566558Z"
    }
   },
   "cell_type": "code",
   "source": [
    "def extract_features(data):\n",
    "    features = []\n",
    "    for key, events in data.items():\n",
    "        for i in range(0, len(events) - 1, 2):  # Step by 2 to pair press and release\n",
    "            if i + 1 < len(events):\n",
    "                press_time, _ = events[i]\n",
    "                release_time, _ = events[i + 1]\n",
    "                hold_time = release_time - press_time\n",
    "                if i + 2 < len(events):\n",
    "                    next_press_time, _ = events[i + 2]\n",
    "                    flight_time = next_press_time - release_time\n",
    "                    features.append([hold_time, flight_time])\n",
    "    return features\n",
    "\n",
    "features = extract_features(keystrokes)"
   ],
   "id": "75a4bb57fb8b7d12",
   "outputs": [],
   "execution_count": 5
  },
  {
   "metadata": {
    "ExecuteTime": {
     "end_time": "2024-12-26T00:50:40.162676Z",
     "start_time": "2024-12-26T00:50:40.029587Z"
    }
   },
   "cell_type": "code",
   "source": [
    "from sklearn.ensemble import IsolationForest\n",
    "import numpy as np\n",
    "\n",
    "# Convert list of lists to numpy array for sklearn\n",
    "X = np.array(features)\n",
    "\n",
    "# Train the model\n",
    "model = IsolationForest(contamination=0.1, random_state=42)\n",
    "model.fit(X)\n",
    "\n",
    "# Save the model for later use\n",
    "import joblib\n",
    "joblib.dump(model, 'isolation_forest_model.joblib')"
   ],
   "id": "a0fbb3993a87274",
   "outputs": [
    {
     "data": {
      "text/plain": [
       "['isolation_forest_model.joblib']"
      ]
     },
     "execution_count": 6,
     "metadata": {},
     "output_type": "execute_result"
    }
   ],
   "execution_count": 6
  },
  {
   "metadata": {
    "ExecuteTime": {
     "end_time": "2024-12-26T00:50:46.844508Z",
     "start_time": "2024-12-26T00:50:46.809167Z"
    }
   },
   "cell_type": "code",
   "source": [
    "# Load the model\n",
    "loaded_model = joblib.load('isolation_forest_model.joblib')\n",
    "\n",
    "# Simulate real-time input (in reality, this would be from live keystrokes)\n",
    "new_keystrokes = extract_features(keystrokes)  # This would be real-time data\n",
    "new_data = np.array(new_keystrokes)\n",
    "\n",
    "# Predict if the new data points are anomalies\n",
    "predictions = loaded_model.predict(new_data)\n",
    "\n",
    "# Alert on anomalies\n",
    "for i, pred in enumerate(predictions):\n",
    "    if pred == -1:  # -1 indicates an anomaly in Isolation Forest\n",
    "        print(f\"Anomaly detected at index {i} with data {new_data[i]}\")"
   ],
   "id": "560e625866c8cb62",
   "outputs": [
    {
     "name": "stdout",
     "output_type": "stream",
     "text": [
      "Anomaly detected at index 0 with data [  0.10966849 107.64093447]\n",
      "Anomaly detected at index 1 with data [9.16223526e-02 5.75159782e+02]\n",
      "Anomaly detected at index 15 with data [8.38849545e-02 2.46323842e+02]\n",
      "Anomaly detected at index 45 with data [9.59975719e-02 3.27972155e+02]\n",
      "Anomaly detected at index 68 with data [6.18672371e-02 1.99622011e+02]\n",
      "Anomaly detected at index 83 with data [8.45813751e-02 1.04795075e+03]\n",
      "Anomaly detected at index 107 with data [8.98311138e-02 1.73730626e+02]\n",
      "Anomaly detected at index 109 with data [1.21908426e-01 2.14192383e+02]\n",
      "Anomaly detected at index 120 with data [7.73282051e-02 4.61701936e+02]\n",
      "Anomaly detected at index 130 with data [5.59971333e-02 1.81552130e+02]\n",
      "Anomaly detected at index 139 with data [6.06145859e-02 1.84619602e+02]\n",
      "Anomaly detected at index 140 with data [5.89854717e-02 1.77241652e+02]\n",
      "Anomaly detected at index 144 with data [9.19668674e-02 2.06406934e+02]\n",
      "Anomaly detected at index 167 with data [  0.34036064 323.84636903]\n",
      "Anomaly detected at index 169 with data [  0.46986508 116.55076146]\n",
      "Anomaly detected at index 173 with data [ 0.70855165 35.57290101]\n",
      "Anomaly detected at index 177 with data [  0.38183713 290.08744431]\n",
      "Anomaly detected at index 179 with data [ 0.36216879 54.35528231]\n",
      "Anomaly detected at index 180 with data [9.22756195e-02 1.43500266e+03]\n",
      "Anomaly detected at index 181 with data [1.51519060e-01 2.39842656e+03]\n",
      "Anomaly detected at index 185 with data [1.40380859e-01 2.35693244e+02]\n",
      "Anomaly detected at index 202 with data [8.23831558e-02 2.38141157e+02]\n",
      "Anomaly detected at index 205 with data [4.02030945e-02 2.03149470e+02]\n",
      "Anomaly detected at index 206 with data [6.98657036e-02 1.36708607e+02]\n",
      "Anomaly detected at index 208 with data [  0.14210939 141.77276969]\n",
      "Anomaly detected at index 209 with data [4.63049412e-02 2.75736168e+02]\n",
      "Anomaly detected at index 214 with data [8.61666203e-02 2.39161524e+02]\n",
      "Anomaly detected at index 239 with data [1.25618935e-01 2.33093596e+02]\n",
      "Anomaly detected at index 285 with data [9.61565971e-02 1.84639817e+02]\n",
      "Anomaly detected at index 303 with data [2.04196453 0.10234475]\n",
      "Anomaly detected at index 305 with data [9.14168787 0.06602216]\n",
      "Anomaly detected at index 306 with data [6.17412663 0.21060061]\n",
      "Anomaly detected at index 307 with data [127.7342031    0.13852739]\n",
      "Anomaly detected at index 318 with data [3.40671539e-02 1.98967297e+02]\n",
      "Anomaly detected at index 402 with data [6.85966015e-02 2.10709014e+02]\n",
      "Anomaly detected at index 433 with data [6.01751804e-02 2.03924156e+02]\n",
      "Anomaly detected at index 456 with data [1.00624561e-01 2.28457843e+02]\n",
      "Anomaly detected at index 479 with data [6.73546791e-02 1.34792675e+02]\n",
      "Anomaly detected at index 480 with data [9.57729816e-02 2.48625903e+02]\n",
      "Anomaly detected at index 496 with data [8.56866837e-02 2.54841645e+02]\n",
      "Anomaly detected at index 506 with data [5.94708920e-02 1.98381478e+02]\n",
      "Anomaly detected at index 538 with data [9.45515633e-02 2.98888665e+02]\n",
      "Anomaly detected at index 542 with data [7.90448189e-02 3.46248916e+02]\n",
      "Anomaly detected at index 544 with data [1.54668570e-01 2.50784898e+02]\n",
      "Anomaly detected at index 545 with data [6.77888393e-02 5.55972944e+02]\n",
      "Anomaly detected at index 546 with data [8.41572285e-02 2.51307118e+02]\n",
      "Anomaly detected at index 564 with data [  0.37612677 208.24933004]\n",
      "Anomaly detected at index 567 with data [208.54906249  36.51616311]\n",
      "Anomaly detected at index 568 with data [40.28007746  0.04737759]\n",
      "Anomaly detected at index 569 with data [5.00635076 0.08794856]\n",
      "Anomaly detected at index 570 with data [13.82196641  0.09554577]\n",
      "Anomaly detected at index 571 with data [47.43813801  0.08037519]\n",
      "Anomaly detected at index 572 with data [54.90754414  0.19434309]\n",
      "Anomaly detected at index 573 with data [12.18232512  0.07993603]\n",
      "Anomaly detected at index 574 with data [1.48176670e-01 1.92204496e+02]\n",
      "Anomaly detected at index 577 with data [1.02986097e-01 2.94010544e+02]\n",
      "Anomaly detected at index 579 with data [  0.14758635 127.51703095]\n",
      "Anomaly detected at index 599 with data [6.97941780e-02 1.31027303e+02]\n",
      "Anomaly detected at index 606 with data [ 0.17431808 87.40117741]\n",
      "Anomaly detected at index 608 with data [ 0.         61.21691608]\n",
      "Anomaly detected at index 609 with data [  0.         142.56275225]\n",
      "Anomaly detected at index 619 with data [  0.3708384  115.71029902]\n",
      "Anomaly detected at index 620 with data [ 0.41377211 60.82941961]\n",
      "Anomaly detected at index 621 with data [  0.48425436 331.71254754]\n",
      "Anomaly detected at index 622 with data [117.16043067  43.46839857]\n",
      "Anomaly detected at index 623 with data [1.28201962e-01 2.93042391e+02]\n",
      "Anomaly detected at index 624 with data [36.52565074 43.21819615]\n",
      "Anomaly detected at index 688 with data [2.07002841e+02 1.45862341e-01]\n",
      "Anomaly detected at index 690 with data [19.04831076  0.1379478 ]\n",
      "Anomaly detected at index 695 with data [7.66793489 0.13880038]\n",
      "Anomaly detected at index 697 with data [1.05233857e+03 1.34835720e-01]\n",
      "Anomaly detected at index 703 with data [5.20244074 0.14384222]\n",
      "Anomaly detected at index 714 with data [2.84637594 0.06975341]\n",
      "Anomaly detected at index 719 with data [14.85387325  0.16961932]\n"
     ]
    }
   ],
   "execution_count": 7
  }
 ],
 "metadata": {
  "kernelspec": {
   "display_name": "Python 3",
   "language": "python",
   "name": "python3"
  },
  "language_info": {
   "codemirror_mode": {
    "name": "ipython",
    "version": 2
   },
   "file_extension": ".py",
   "mimetype": "text/x-python",
   "name": "python",
   "nbconvert_exporter": "python",
   "pygments_lexer": "ipython2",
   "version": "2.7.6"
  }
 },
 "nbformat": 4,
 "nbformat_minor": 5
}
