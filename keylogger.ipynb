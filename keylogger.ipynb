{
 "cells": [
  {
   "cell_type": "code",
   "id": "initial_id",
   "metadata": {
    "collapsed": true,
    "ExecuteTime": {
     "end_time": "2024-12-27T14:26:28.832803Z",
     "start_time": "2024-12-27T14:22:59.609728Z"
    }
   },
   "source": [
    "from pynput import keyboard\n",
    "import time\n",
    "import logging\n",
    "from cryptography.fernet import Fernet\n",
    "import os\n",
    "\n",
    "# Generate a key for encryption and store it securely (e.g., environment variable or config file)\n",
    "key = Fernet.generate_key()\n",
    "cipher_suite = Fernet(key)\n",
    "\n",
    "# Log file\n",
    "log_file = \"keystroke_timing.log\"\n",
    "encrypted_log_file = \"keystroke_timing_encrypted.log\"\n",
    "\n",
    "# Initialize variables\n",
    "last_release_time = None\n",
    "last_key = None\n",
    "press_time_dict = {}\n",
    "\n",
    "def on_press(key):\n",
    "    global last_release_time, last_key, press_time_dict\n",
    "    press_time = time.time()\n",
    "\n",
    "    if last_release_time is not None:\n",
    "        flight_time = press_time - last_release_time\n",
    "        logging.info(f\"Flight Time: {flight_time:.4f} seconds\")\n",
    "\n",
    "    last_key = key\n",
    "    press_time_dict[key] = press_time\n",
    "\n",
    "def on_release(key):\n",
    "    global last_release_time, last_key, press_time_dict\n",
    "    release_time = time.time()\n",
    "\n",
    "    if key in press_time_dict:\n",
    "        hold_time = release_time - press_time_dict[key]\n",
    "        logging.info(f\"Hold Time: {hold_time:.4f} seconds\")\n",
    "        del press_time_dict[key]\n",
    "\n",
    "    last_release_time = release_time\n",
    "\n",
    "# Set up logging\n",
    "logging.basicConfig(filename=log_file, level=logging.INFO, format='%(asctime)s: %(message)s')\n",
    "\n",
    "# Encrypt the log file\n",
    "def decrypt_log():\n",
    "    try:\n",
    "        # 从文件加载密钥\n",
    "        with open('key.key', 'rb') as key_file:\n",
    "            key = key_file.read()\n",
    "        cipher_suite = Fernet(key)\n",
    "\n",
    "        # 读取加密文件\n",
    "        with open(encrypted_log_file, \"rb\") as f:\n",
    "            encrypted_data = f.read()\n",
    "\n",
    "        # 解密数据\n",
    "        decrypted_data = cipher_suite.decrypt(encrypted_data)\n",
    "\n",
    "        # 写入解密后的文件\n",
    "        with open(\"decrypted_keystroke_timing.log\", \"wb\") as f:\n",
    "            f.write(decrypted_data)\n",
    "\n",
    "        print(\"Decryption successful.\")\n",
    "    except Exception as e:\n",
    "        print(f\"Failed to decrypt log file: {e}\")\n",
    "\n",
    "\n",
    "# Start the keylogger\n",
    "with keyboard.Listener(on_press=on_press, on_release=on_release) as listener:\n",
    "    try:\n",
    "        listener.join()\n",
    "    except KeyboardInterrupt:\n",
    "        encrypt_log()\n",
    "    except Exception as e:\n",
    "        logging.error(f\"Unexpected error: {e}\")\n",
    "        encrypt_log()\n"
   ],
   "outputs": [],
   "execution_count": null
  },
  {
   "metadata": {
    "ExecuteTime": {
     "end_time": "2024-12-27T14:20:20.736480Z",
     "start_time": "2024-12-27T14:20:20.569401Z"
    }
   },
   "cell_type": "code",
   "source": [
    "import pandas as pd\n",
    "import numpy as np\n",
    "\n",
    "# Load and decrypt the log file\n",
    "def decrypt_log():\n",
    "    with open(log_file, \"rb\") as f:\n",
    "        encrypted_data = f.read()\n",
    "    decrypted_data = cipher_suite.decrypt(encrypted_data)\n",
    "    with open(\"decrypted_keystroke_timing.log\", \"wb\") as f:\n",
    "        f.write(decrypted_data)\n",
    "\n",
    "decrypt_log()\n",
    "\n",
    "# Parse the log file\n",
    "data = []\n",
    "with open(\"decrypted_keystroke_timing.log\", \"r\") as f:\n",
    "    for line in f:\n",
    "        if \"Hold Time\" in line or \"Flight Time\" in line:\n",
    "            parts = line.strip().split(\": \")\n",
    "            data.append((parts[0], float(parts[1])))\n",
    "\n",
    "# Convert to DataFrame\n",
    "df = pd.DataFrame(data, columns=[\"Type\", \"Time\"])\n",
    "df = df.pivot(columns=\"Type\", values=\"Time\")\n",
    "df.dropna(inplace=True)\n",
    "\n",
    "# Save preprocessed data\n",
    "df.to_csv(\"keystroke_data.csv\", index=False)"
   ],
   "id": "1a7e2f0bdc0c80ca",
   "outputs": [
    {
     "ename": "InvalidToken",
     "evalue": "",
     "output_type": "error",
     "traceback": [
      "\u001B[1;31m---------------------------------------------------------------------------\u001B[0m",
      "\u001B[1;31mInvalidToken\u001B[0m                              Traceback (most recent call last)",
      "Cell \u001B[1;32mIn[10], line 12\u001B[0m\n\u001B[0;32m      9\u001B[0m     \u001B[38;5;28;01mwith\u001B[39;00m \u001B[38;5;28mopen\u001B[39m(\u001B[38;5;124m\"\u001B[39m\u001B[38;5;124mdecrypted_keystroke_timing.log\u001B[39m\u001B[38;5;124m\"\u001B[39m, \u001B[38;5;124m\"\u001B[39m\u001B[38;5;124mwb\u001B[39m\u001B[38;5;124m\"\u001B[39m) \u001B[38;5;28;01mas\u001B[39;00m f:\n\u001B[0;32m     10\u001B[0m         f\u001B[38;5;241m.\u001B[39mwrite(decrypted_data)\n\u001B[1;32m---> 12\u001B[0m \u001B[43mdecrypt_log\u001B[49m\u001B[43m(\u001B[49m\u001B[43m)\u001B[49m\n\u001B[0;32m     14\u001B[0m \u001B[38;5;66;03m# Parse the log file\u001B[39;00m\n\u001B[0;32m     15\u001B[0m data \u001B[38;5;241m=\u001B[39m []\n",
      "Cell \u001B[1;32mIn[10], line 8\u001B[0m, in \u001B[0;36mdecrypt_log\u001B[1;34m()\u001B[0m\n\u001B[0;32m      6\u001B[0m \u001B[38;5;28;01mwith\u001B[39;00m \u001B[38;5;28mopen\u001B[39m(log_file, \u001B[38;5;124m\"\u001B[39m\u001B[38;5;124mrb\u001B[39m\u001B[38;5;124m\"\u001B[39m) \u001B[38;5;28;01mas\u001B[39;00m f:\n\u001B[0;32m      7\u001B[0m     encrypted_data \u001B[38;5;241m=\u001B[39m f\u001B[38;5;241m.\u001B[39mread()\n\u001B[1;32m----> 8\u001B[0m decrypted_data \u001B[38;5;241m=\u001B[39m \u001B[43mcipher_suite\u001B[49m\u001B[38;5;241;43m.\u001B[39;49m\u001B[43mdecrypt\u001B[49m\u001B[43m(\u001B[49m\u001B[43mencrypted_data\u001B[49m\u001B[43m)\u001B[49m\n\u001B[0;32m      9\u001B[0m \u001B[38;5;28;01mwith\u001B[39;00m \u001B[38;5;28mopen\u001B[39m(\u001B[38;5;124m\"\u001B[39m\u001B[38;5;124mdecrypted_keystroke_timing.log\u001B[39m\u001B[38;5;124m\"\u001B[39m, \u001B[38;5;124m\"\u001B[39m\u001B[38;5;124mwb\u001B[39m\u001B[38;5;124m\"\u001B[39m) \u001B[38;5;28;01mas\u001B[39;00m f:\n\u001B[0;32m     10\u001B[0m     f\u001B[38;5;241m.\u001B[39mwrite(decrypted_data)\n",
      "File \u001B[1;32mD:\\Projects\\Master\\Keylogger\\.venv\\Lib\\site-packages\\cryptography\\fernet.py:84\u001B[0m, in \u001B[0;36mFernet.decrypt\u001B[1;34m(self, token, ttl)\u001B[0m\n\u001B[0;32m     83\u001B[0m \u001B[38;5;28;01mdef\u001B[39;00m \u001B[38;5;21mdecrypt\u001B[39m(\u001B[38;5;28mself\u001B[39m, token: \u001B[38;5;28mbytes\u001B[39m \u001B[38;5;241m|\u001B[39m \u001B[38;5;28mstr\u001B[39m, ttl: \u001B[38;5;28mint\u001B[39m \u001B[38;5;241m|\u001B[39m \u001B[38;5;28;01mNone\u001B[39;00m \u001B[38;5;241m=\u001B[39m \u001B[38;5;28;01mNone\u001B[39;00m) \u001B[38;5;241m-\u001B[39m\u001B[38;5;241m>\u001B[39m \u001B[38;5;28mbytes\u001B[39m:\n\u001B[1;32m---> 84\u001B[0m     timestamp, data \u001B[38;5;241m=\u001B[39m \u001B[43mFernet\u001B[49m\u001B[38;5;241;43m.\u001B[39;49m\u001B[43m_get_unverified_token_data\u001B[49m\u001B[43m(\u001B[49m\u001B[43mtoken\u001B[49m\u001B[43m)\u001B[49m\n\u001B[0;32m     85\u001B[0m     \u001B[38;5;28;01mif\u001B[39;00m ttl \u001B[38;5;129;01mis\u001B[39;00m \u001B[38;5;28;01mNone\u001B[39;00m:\n\u001B[0;32m     86\u001B[0m         time_info \u001B[38;5;241m=\u001B[39m \u001B[38;5;28;01mNone\u001B[39;00m\n",
      "File \u001B[1;32mD:\\Projects\\Master\\Keylogger\\.venv\\Lib\\site-packages\\cryptography\\fernet.py:118\u001B[0m, in \u001B[0;36mFernet._get_unverified_token_data\u001B[1;34m(token)\u001B[0m\n\u001B[0;32m    115\u001B[0m     \u001B[38;5;28;01mraise\u001B[39;00m InvalidToken\n\u001B[0;32m    117\u001B[0m \u001B[38;5;28;01mif\u001B[39;00m \u001B[38;5;129;01mnot\u001B[39;00m data \u001B[38;5;129;01mor\u001B[39;00m data[\u001B[38;5;241m0\u001B[39m] \u001B[38;5;241m!=\u001B[39m \u001B[38;5;241m0x80\u001B[39m:\n\u001B[1;32m--> 118\u001B[0m     \u001B[38;5;28;01mraise\u001B[39;00m InvalidToken\n\u001B[0;32m    120\u001B[0m \u001B[38;5;28;01mif\u001B[39;00m \u001B[38;5;28mlen\u001B[39m(data) \u001B[38;5;241m<\u001B[39m \u001B[38;5;241m9\u001B[39m:\n\u001B[0;32m    121\u001B[0m     \u001B[38;5;28;01mraise\u001B[39;00m InvalidToken\n",
      "\u001B[1;31mInvalidToken\u001B[0m: "
     ]
    }
   ],
   "execution_count": 10
  },
  {
   "metadata": {},
   "cell_type": "code",
   "outputs": [],
   "execution_count": null,
   "source": [
    "from sklearn.ensemble import IsolationForest\n",
    "import matplotlib.pyplot as plt\n",
    "\n",
    "# Load preprocessed data\n",
    "df = pd.read_csv(\"keystroke_data.csv\")\n",
    "\n",
    "# Train Isolation Forest model\n",
    "model = IsolationForest(contamination=0.1, random_state=42)\n",
    "df[\"Anomaly\"] = model.fit_predict(df)\n",
    "\n",
    "# Visualize anomalies\n",
    "plt.scatter(df.index, df[\"Hold Time\"], c=df[\"Anomaly\"], cmap=\"coolwarm\")\n",
    "plt.title(\"Anomaly Detection in Keystroke Timing\")\n",
    "plt.xlabel(\"Keystroke Index\")\n",
    "plt.ylabel(\"Hold Time (seconds)\")\n",
    "plt.show()"
   ],
   "id": "10a6e245cca75549"
  },
  {
   "metadata": {
    "ExecuteTime": {
     "end_time": "2024-12-27T09:41:09.496767Z",
     "start_time": "2024-12-27T09:41:09.444535Z"
    }
   },
   "cell_type": "code",
   "source": [
    "from tensorflow.keras.models import Sequential\n",
    "from tensorflow.keras.layers import LSTM, Dense\n",
    "from sklearn.preprocessing import MinMaxScaler\n",
    "\n",
    "# Normalize data\n",
    "scaler = MinMaxScaler()\n",
    "scaled_data = scaler.fit_transform(df[[\"Hold Time\", \"Flight Time\"]])\n",
    "\n",
    "# Prepare sequences\n",
    "def create_sequences(data, seq_length):\n",
    "    xs, ys = [], []\n",
    "    for i in range(len(data) - seq_length):\n",
    "        xs.append(data[i:i+seq_length])\n",
    "        ys.append(data[i+seq_length])\n",
    "    return np.array(xs), np.array(ys)\n",
    "\n",
    "seq_length = 10\n",
    "X, y = create_sequences(scaled_data, seq_length)\n",
    "\n",
    "# Build LSTM model\n",
    "model = Sequential([\n",
    "    LSTM(50, activation=\"relu\", input_shape=(seq_length, 2)),\n",
    "    Dense(2)\n",
    "])\n",
    "model.compile(optimizer=\"adam\", loss=\"mse\")\n",
    "\n",
    "# Train the model\n",
    "model.fit(X, y, epochs=20, batch_size=32)\n",
    "\n",
    "# Predict and detect anomalies\n",
    "predictions = model.predict(X)\n",
    "mse = np.mean(np.square(predictions - y), axis=1)\n",
    "df[\"Anomaly\"] = mse > np.percentile(mse, 95)\n",
    "\n",
    "# Visualize anomalies\n",
    "plt.scatter(df.index[seq_length:], df[\"Hold Time\"][seq_length:], c=df[\"Anomaly\"][seq_length:], cmap=\"coolwarm\")\n",
    "plt.title(\"Anomaly Detection in Keystroke Timing (LSTM)\")\n",
    "plt.xlabel(\"Keystroke Index\")\n",
    "plt.ylabel(\"Hold Time (seconds)\")\n",
    "plt.show()"
   ],
   "id": "198f1e1192af6c07",
   "outputs": [
    {
     "ename": "ModuleNotFoundError",
     "evalue": "No module named 'tensorflow'",
     "output_type": "error",
     "traceback": [
      "\u001B[1;31m---------------------------------------------------------------------------\u001B[0m",
      "\u001B[1;31mModuleNotFoundError\u001B[0m                       Traceback (most recent call last)",
      "Cell \u001B[1;32mIn[3], line 1\u001B[0m\n\u001B[1;32m----> 1\u001B[0m \u001B[38;5;28;01mfrom\u001B[39;00m \u001B[38;5;21;01mtensorflow\u001B[39;00m\u001B[38;5;21;01m.\u001B[39;00m\u001B[38;5;21;01mkeras\u001B[39;00m\u001B[38;5;21;01m.\u001B[39;00m\u001B[38;5;21;01mmodels\u001B[39;00m \u001B[38;5;28;01mimport\u001B[39;00m Sequential\n\u001B[0;32m      2\u001B[0m \u001B[38;5;28;01mfrom\u001B[39;00m \u001B[38;5;21;01mtensorflow\u001B[39;00m\u001B[38;5;21;01m.\u001B[39;00m\u001B[38;5;21;01mkeras\u001B[39;00m\u001B[38;5;21;01m.\u001B[39;00m\u001B[38;5;21;01mlayers\u001B[39;00m \u001B[38;5;28;01mimport\u001B[39;00m LSTM, Dense\n\u001B[0;32m      3\u001B[0m \u001B[38;5;28;01mfrom\u001B[39;00m \u001B[38;5;21;01msklearn\u001B[39;00m\u001B[38;5;21;01m.\u001B[39;00m\u001B[38;5;21;01mpreprocessing\u001B[39;00m \u001B[38;5;28;01mimport\u001B[39;00m MinMaxScaler\n",
      "\u001B[1;31mModuleNotFoundError\u001B[0m: No module named 'tensorflow'"
     ]
    }
   ],
   "execution_count": 3
  },
  {
   "metadata": {},
   "cell_type": "code",
   "outputs": [],
   "execution_count": null,
   "source": "",
   "id": "7507e9113098ac85"
  }
 ],
 "metadata": {
  "kernelspec": {
   "display_name": "Python 3",
   "language": "python",
   "name": "python3"
  },
  "language_info": {
   "codemirror_mode": {
    "name": "ipython",
    "version": 2
   },
   "file_extension": ".py",
   "mimetype": "text/x-python",
   "name": "python",
   "nbconvert_exporter": "python",
   "pygments_lexer": "ipython2",
   "version": "2.7.6"
  }
 },
 "nbformat": 4,
 "nbformat_minor": 5
}
