{
 "cells": [
  {
   "cell_type": "code",
   "id": "initial_id",
   "metadata": {
    "collapsed": true,
    "ExecuteTime": {
     "end_time": "2024-12-27T09:41:51.717538Z",
     "start_time": "2024-12-27T09:41:48.541044Z"
    }
   },
   "source": [
    "from pynput import keyboard\n",
    "import time\n",
    "import logging\n",
    "from cryptography.fernet import Fernet\n",
    "\n",
    "# Generate a key for encryption\n",
    "key = Fernet.generate_key()\n",
    "cipher_suite = Fernet(key)\n",
    "\n",
    "# Log file\n",
    "log_file = \"keystroke_timing.log\"\n",
    "\n",
    "# Initialize variables\n",
    "last_release_time = None\n",
    "last_key = None\n",
    "\n",
    "def on_press(key):\n",
    "    global last_release_time, last_key\n",
    "    press_time = time.time()\n",
    "\n",
    "    if last_release_time is not None:\n",
    "        flight_time = press_time - last_release_time\n",
    "        logging.info(f\"Flight Time: {flight_time:.4f} seconds\")\n",
    "\n",
    "    last_key = key\n",
    "    return True\n",
    "\n",
    "def on_release(key):\n",
    "    global last_release_time, last_key\n",
    "    release_time = time.time()\n",
    "\n",
    "    if last_key is not None:\n",
    "        hold_time = release_time - press_time\n",
    "        logging.info(f\"Hold Time: {hold_time:.4f} seconds\")\n",
    "\n",
    "    last_release_time = release_time\n",
    "    return True\n",
    "\n",
    "# Set up logging\n",
    "logging.basicConfig(filename=log_file, level=logging.INFO, format='%(asctime)s: %(message)s')\n",
    "\n",
    "# Encrypt the log file\n",
    "def encrypt_log():\n",
    "    with open(log_file, \"rb\") as f:\n",
    "        data = f.read()\n",
    "    encrypted_data = cipher_suite.encrypt(data)\n",
    "    with open(log_file, \"wb\") as f:\n",
    "        f.write(encrypted_data)\n",
    "\n",
    "# Start the keylogger\n",
    "with keyboard.Listener(on_press=on_press, on_release=on_release) as listener:\n",
    "    try:\n",
    "        listener.join()\n",
    "    except KeyboardInterrupt:\n",
    "        encrypt_log()"
   ],
   "outputs": [
    {
     "ename": "NameError",
     "evalue": "name 'press_time' is not defined",
     "output_type": "error",
     "traceback": [
      "\u001B[1;31m---------------------------------------------------------------------------\u001B[0m",
      "\u001B[1;31mNameError\u001B[0m                                 Traceback (most recent call last)",
      "Cell \u001B[1;32mIn[5], line 53\u001B[0m\n\u001B[0;32m     51\u001B[0m \u001B[38;5;28;01mwith\u001B[39;00m keyboard\u001B[38;5;241m.\u001B[39mListener(on_press\u001B[38;5;241m=\u001B[39mon_press, on_release\u001B[38;5;241m=\u001B[39mon_release) \u001B[38;5;28;01mas\u001B[39;00m listener:\n\u001B[0;32m     52\u001B[0m     \u001B[38;5;28;01mtry\u001B[39;00m:\n\u001B[1;32m---> 53\u001B[0m         \u001B[43mlistener\u001B[49m\u001B[38;5;241;43m.\u001B[39;49m\u001B[43mjoin\u001B[49m\u001B[43m(\u001B[49m\u001B[43m)\u001B[49m\n\u001B[0;32m     54\u001B[0m     \u001B[38;5;28;01mexcept\u001B[39;00m \u001B[38;5;167;01mKeyboardInterrupt\u001B[39;00m:\n\u001B[0;32m     55\u001B[0m         encrypt_log()\n",
      "File \u001B[1;32mD:\\Projects\\Master\\Keylogger\\.venv\\Lib\\site-packages\\pynput\\_util\\__init__.py:281\u001B[0m, in \u001B[0;36mAbstractListener.join\u001B[1;34m(self, timeout, *args)\u001B[0m\n\u001B[0;32m    278\u001B[0m \u001B[38;5;28;01mtry\u001B[39;00m:\n\u001B[0;32m    279\u001B[0m     exc_type, exc_value, exc_traceback \u001B[38;5;241m=\u001B[39m \u001B[38;5;28mself\u001B[39m\u001B[38;5;241m.\u001B[39m_queue\u001B[38;5;241m.\u001B[39mget(\n\u001B[0;32m    280\u001B[0m         timeout\u001B[38;5;241m=\u001B[39mtimeout)\n\u001B[1;32m--> 281\u001B[0m     \u001B[43msix\u001B[49m\u001B[38;5;241;43m.\u001B[39;49m\u001B[43mreraise\u001B[49m\u001B[43m(\u001B[49m\u001B[43mexc_type\u001B[49m\u001B[43m,\u001B[49m\u001B[43m \u001B[49m\u001B[43mexc_value\u001B[49m\u001B[43m,\u001B[49m\u001B[43m \u001B[49m\u001B[43mexc_traceback\u001B[49m\u001B[43m)\u001B[49m\n\u001B[0;32m    282\u001B[0m \u001B[38;5;28;01mexcept\u001B[39;00m queue\u001B[38;5;241m.\u001B[39mEmpty:\n\u001B[0;32m    283\u001B[0m     \u001B[38;5;28;01mpass\u001B[39;00m\n",
      "File \u001B[1;32mD:\\Projects\\Master\\Keylogger\\.venv\\Lib\\site-packages\\six.py:723\u001B[0m, in \u001B[0;36mreraise\u001B[1;34m(tp, value, tb)\u001B[0m\n\u001B[0;32m    721\u001B[0m         value \u001B[38;5;241m=\u001B[39m tp()\n\u001B[0;32m    722\u001B[0m     \u001B[38;5;28;01mif\u001B[39;00m value\u001B[38;5;241m.\u001B[39m__traceback__ \u001B[38;5;129;01mis\u001B[39;00m \u001B[38;5;129;01mnot\u001B[39;00m tb:\n\u001B[1;32m--> 723\u001B[0m         \u001B[38;5;28;01mraise\u001B[39;00m value\u001B[38;5;241m.\u001B[39mwith_traceback(tb)\n\u001B[0;32m    724\u001B[0m     \u001B[38;5;28;01mraise\u001B[39;00m value\n\u001B[0;32m    725\u001B[0m \u001B[38;5;28;01mfinally\u001B[39;00m:\n",
      "File \u001B[1;32mD:\\Projects\\Master\\Keylogger\\.venv\\Lib\\site-packages\\pynput\\_util\\__init__.py:229\u001B[0m, in \u001B[0;36mAbstractListener._emitter.<locals>.inner\u001B[1;34m(self, *args, **kwargs)\u001B[0m\n\u001B[0;32m    225\u001B[0m \u001B[38;5;129m@functools\u001B[39m\u001B[38;5;241m.\u001B[39mwraps(f)\n\u001B[0;32m    226\u001B[0m \u001B[38;5;28;01mdef\u001B[39;00m \u001B[38;5;21minner\u001B[39m(\u001B[38;5;28mself\u001B[39m, \u001B[38;5;241m*\u001B[39margs, \u001B[38;5;241m*\u001B[39m\u001B[38;5;241m*\u001B[39mkwargs):\n\u001B[0;32m    227\u001B[0m     \u001B[38;5;66;03m# pylint: disable=W0702; we want to catch all exception\u001B[39;00m\n\u001B[0;32m    228\u001B[0m     \u001B[38;5;28;01mtry\u001B[39;00m:\n\u001B[1;32m--> 229\u001B[0m         \u001B[38;5;28;01mreturn\u001B[39;00m \u001B[43mf\u001B[49m\u001B[43m(\u001B[49m\u001B[38;5;28;43mself\u001B[39;49m\u001B[43m,\u001B[49m\u001B[43m \u001B[49m\u001B[38;5;241;43m*\u001B[39;49m\u001B[43margs\u001B[49m\u001B[43m,\u001B[49m\u001B[43m \u001B[49m\u001B[38;5;241;43m*\u001B[39;49m\u001B[38;5;241;43m*\u001B[39;49m\u001B[43mkwargs\u001B[49m\u001B[43m)\u001B[49m\n\u001B[0;32m    230\u001B[0m     \u001B[38;5;28;01mexcept\u001B[39;00m \u001B[38;5;167;01mException\u001B[39;00m \u001B[38;5;28;01mas\u001B[39;00m e:\n\u001B[0;32m    231\u001B[0m         \u001B[38;5;28;01mif\u001B[39;00m \u001B[38;5;129;01mnot\u001B[39;00m \u001B[38;5;28misinstance\u001B[39m(e, \u001B[38;5;28mself\u001B[39m\u001B[38;5;241m.\u001B[39m_HANDLED_EXCEPTIONS):\n",
      "File \u001B[1;32mD:\\Projects\\Master\\Keylogger\\.venv\\Lib\\site-packages\\pynput\\keyboard\\_win32.py:319\u001B[0m, in \u001B[0;36mListener._process\u001B[1;34m(self, wparam, lparam)\u001B[0m\n\u001B[0;32m    316\u001B[0m     \u001B[38;5;28mself\u001B[39m\u001B[38;5;241m.\u001B[39mon_press(key)\n\u001B[0;32m    318\u001B[0m \u001B[38;5;28;01melif\u001B[39;00m msg \u001B[38;5;129;01min\u001B[39;00m \u001B[38;5;28mself\u001B[39m\u001B[38;5;241m.\u001B[39m_RELEASE_MESSAGES:\n\u001B[1;32m--> 319\u001B[0m     \u001B[38;5;28;43mself\u001B[39;49m\u001B[38;5;241;43m.\u001B[39;49m\u001B[43mon_release\u001B[49m\u001B[43m(\u001B[49m\u001B[43mkey\u001B[49m\u001B[43m)\u001B[49m\n",
      "File \u001B[1;32mD:\\Projects\\Master\\Keylogger\\.venv\\Lib\\site-packages\\pynput\\_util\\__init__.py:145\u001B[0m, in \u001B[0;36mAbstractListener.__init__.<locals>.wrapper.<locals>.inner\u001B[1;34m(*args)\u001B[0m\n\u001B[0;32m    144\u001B[0m \u001B[38;5;28;01mdef\u001B[39;00m \u001B[38;5;21minner\u001B[39m(\u001B[38;5;241m*\u001B[39margs):\n\u001B[1;32m--> 145\u001B[0m     \u001B[38;5;28;01mif\u001B[39;00m \u001B[43mf\u001B[49m\u001B[43m(\u001B[49m\u001B[38;5;241;43m*\u001B[39;49m\u001B[43margs\u001B[49m\u001B[43m)\u001B[49m \u001B[38;5;129;01mis\u001B[39;00m \u001B[38;5;28;01mFalse\u001B[39;00m:\n\u001B[0;32m    146\u001B[0m         \u001B[38;5;28;01mraise\u001B[39;00m \u001B[38;5;28mself\u001B[39m\u001B[38;5;241m.\u001B[39mStopException()\n",
      "Cell \u001B[1;32mIn[5], line 33\u001B[0m, in \u001B[0;36mon_release\u001B[1;34m(key)\u001B[0m\n\u001B[0;32m     30\u001B[0m release_time \u001B[38;5;241m=\u001B[39m time\u001B[38;5;241m.\u001B[39mtime()\n\u001B[0;32m     32\u001B[0m \u001B[38;5;28;01mif\u001B[39;00m last_key \u001B[38;5;129;01mis\u001B[39;00m \u001B[38;5;129;01mnot\u001B[39;00m \u001B[38;5;28;01mNone\u001B[39;00m:\n\u001B[1;32m---> 33\u001B[0m     hold_time \u001B[38;5;241m=\u001B[39m release_time \u001B[38;5;241m-\u001B[39m \u001B[43mpress_time\u001B[49m\n\u001B[0;32m     34\u001B[0m     logging\u001B[38;5;241m.\u001B[39minfo(\u001B[38;5;124mf\u001B[39m\u001B[38;5;124m\"\u001B[39m\u001B[38;5;124mHold Time: \u001B[39m\u001B[38;5;132;01m{\u001B[39;00mhold_time\u001B[38;5;132;01m:\u001B[39;00m\u001B[38;5;124m.4f\u001B[39m\u001B[38;5;132;01m}\u001B[39;00m\u001B[38;5;124m seconds\u001B[39m\u001B[38;5;124m\"\u001B[39m)\n\u001B[0;32m     36\u001B[0m last_release_time \u001B[38;5;241m=\u001B[39m release_time\n",
      "\u001B[1;31mNameError\u001B[0m: name 'press_time' is not defined"
     ]
    }
   ],
   "execution_count": 5
  },
  {
   "metadata": {
    "ExecuteTime": {
     "end_time": "2024-12-27T11:02:44.596092Z",
     "start_time": "2024-12-27T11:02:44.399145Z"
    }
   },
   "cell_type": "code",
   "source": [
    "import pandas as pd\n",
    "import numpy as np\n",
    "\n",
    "# Load and decrypt the log file\n",
    "def decrypt_log():\n",
    "    with open(log_file, \"rb\") as f:\n",
    "        encrypted_data = f.read()\n",
    "    decrypted_data = cipher_suite.decrypt(encrypted_data)\n",
    "    with open(\"decrypted_keystroke_timing.log\", \"wb\") as f:\n",
    "        f.write(decrypted_data)\n",
    "\n",
    "decrypt_log()\n",
    "\n",
    "# Parse the log file\n",
    "data = []\n",
    "with open(\"decrypted_keystroke_timing.log\", \"r\") as f:\n",
    "    for line in f:\n",
    "        if \"Hold Time\" in line or \"Flight Time\" in line:\n",
    "            parts = line.strip().split(\": \")\n",
    "            data.append((parts[0], float(parts[1])))\n",
    "\n",
    "# Convert to DataFrame\n",
    "df = pd.DataFrame(data, columns=[\"Type\", \"Time\"])\n",
    "df = df.pivot(columns=\"Type\", values=\"Time\")\n",
    "df.dropna(inplace=True)\n",
    "\n",
    "# Save preprocessed data\n",
    "df.to_csv(\"keystroke_data.csv\", index=False)"
   ],
   "id": "1a7e2f0bdc0c80ca",
   "outputs": [
    {
     "ename": "InvalidToken",
     "evalue": "",
     "output_type": "error",
     "traceback": [
      "\u001B[1;31m---------------------------------------------------------------------------\u001B[0m",
      "\u001B[1;31mInvalidToken\u001B[0m                              Traceback (most recent call last)",
      "Cell \u001B[1;32mIn[9], line 12\u001B[0m\n\u001B[0;32m      9\u001B[0m     \u001B[38;5;28;01mwith\u001B[39;00m \u001B[38;5;28mopen\u001B[39m(\u001B[38;5;124m\"\u001B[39m\u001B[38;5;124mdecrypted_keystroke_timing.log\u001B[39m\u001B[38;5;124m\"\u001B[39m, \u001B[38;5;124m\"\u001B[39m\u001B[38;5;124mwb\u001B[39m\u001B[38;5;124m\"\u001B[39m) \u001B[38;5;28;01mas\u001B[39;00m f:\n\u001B[0;32m     10\u001B[0m         f\u001B[38;5;241m.\u001B[39mwrite(decrypted_data)\n\u001B[1;32m---> 12\u001B[0m \u001B[43mdecrypt_log\u001B[49m\u001B[43m(\u001B[49m\u001B[43m)\u001B[49m\n\u001B[0;32m     14\u001B[0m \u001B[38;5;66;03m# Parse the log file\u001B[39;00m\n\u001B[0;32m     15\u001B[0m data \u001B[38;5;241m=\u001B[39m []\n",
      "Cell \u001B[1;32mIn[9], line 8\u001B[0m, in \u001B[0;36mdecrypt_log\u001B[1;34m()\u001B[0m\n\u001B[0;32m      6\u001B[0m \u001B[38;5;28;01mwith\u001B[39;00m \u001B[38;5;28mopen\u001B[39m(log_file, \u001B[38;5;124m\"\u001B[39m\u001B[38;5;124mrb\u001B[39m\u001B[38;5;124m\"\u001B[39m) \u001B[38;5;28;01mas\u001B[39;00m f:\n\u001B[0;32m      7\u001B[0m     encrypted_data \u001B[38;5;241m=\u001B[39m f\u001B[38;5;241m.\u001B[39mread()\n\u001B[1;32m----> 8\u001B[0m decrypted_data \u001B[38;5;241m=\u001B[39m \u001B[43mcipher_suite\u001B[49m\u001B[38;5;241;43m.\u001B[39;49m\u001B[43mdecrypt\u001B[49m\u001B[43m(\u001B[49m\u001B[43mencrypted_data\u001B[49m\u001B[43m)\u001B[49m\n\u001B[0;32m      9\u001B[0m \u001B[38;5;28;01mwith\u001B[39;00m \u001B[38;5;28mopen\u001B[39m(\u001B[38;5;124m\"\u001B[39m\u001B[38;5;124mdecrypted_keystroke_timing.log\u001B[39m\u001B[38;5;124m\"\u001B[39m, \u001B[38;5;124m\"\u001B[39m\u001B[38;5;124mwb\u001B[39m\u001B[38;5;124m\"\u001B[39m) \u001B[38;5;28;01mas\u001B[39;00m f:\n\u001B[0;32m     10\u001B[0m     f\u001B[38;5;241m.\u001B[39mwrite(decrypted_data)\n",
      "File \u001B[1;32mD:\\Projects\\Master\\Keylogger\\.venv\\Lib\\site-packages\\cryptography\\fernet.py:84\u001B[0m, in \u001B[0;36mFernet.decrypt\u001B[1;34m(self, token, ttl)\u001B[0m\n\u001B[0;32m     83\u001B[0m \u001B[38;5;28;01mdef\u001B[39;00m \u001B[38;5;21mdecrypt\u001B[39m(\u001B[38;5;28mself\u001B[39m, token: \u001B[38;5;28mbytes\u001B[39m \u001B[38;5;241m|\u001B[39m \u001B[38;5;28mstr\u001B[39m, ttl: \u001B[38;5;28mint\u001B[39m \u001B[38;5;241m|\u001B[39m \u001B[38;5;28;01mNone\u001B[39;00m \u001B[38;5;241m=\u001B[39m \u001B[38;5;28;01mNone\u001B[39;00m) \u001B[38;5;241m-\u001B[39m\u001B[38;5;241m>\u001B[39m \u001B[38;5;28mbytes\u001B[39m:\n\u001B[1;32m---> 84\u001B[0m     timestamp, data \u001B[38;5;241m=\u001B[39m \u001B[43mFernet\u001B[49m\u001B[38;5;241;43m.\u001B[39;49m\u001B[43m_get_unverified_token_data\u001B[49m\u001B[43m(\u001B[49m\u001B[43mtoken\u001B[49m\u001B[43m)\u001B[49m\n\u001B[0;32m     85\u001B[0m     \u001B[38;5;28;01mif\u001B[39;00m ttl \u001B[38;5;129;01mis\u001B[39;00m \u001B[38;5;28;01mNone\u001B[39;00m:\n\u001B[0;32m     86\u001B[0m         time_info \u001B[38;5;241m=\u001B[39m \u001B[38;5;28;01mNone\u001B[39;00m\n",
      "File \u001B[1;32mD:\\Projects\\Master\\Keylogger\\.venv\\Lib\\site-packages\\cryptography\\fernet.py:118\u001B[0m, in \u001B[0;36mFernet._get_unverified_token_data\u001B[1;34m(token)\u001B[0m\n\u001B[0;32m    115\u001B[0m     \u001B[38;5;28;01mraise\u001B[39;00m InvalidToken\n\u001B[0;32m    117\u001B[0m \u001B[38;5;28;01mif\u001B[39;00m \u001B[38;5;129;01mnot\u001B[39;00m data \u001B[38;5;129;01mor\u001B[39;00m data[\u001B[38;5;241m0\u001B[39m] \u001B[38;5;241m!=\u001B[39m \u001B[38;5;241m0x80\u001B[39m:\n\u001B[1;32m--> 118\u001B[0m     \u001B[38;5;28;01mraise\u001B[39;00m InvalidToken\n\u001B[0;32m    120\u001B[0m \u001B[38;5;28;01mif\u001B[39;00m \u001B[38;5;28mlen\u001B[39m(data) \u001B[38;5;241m<\u001B[39m \u001B[38;5;241m9\u001B[39m:\n\u001B[0;32m    121\u001B[0m     \u001B[38;5;28;01mraise\u001B[39;00m InvalidToken\n",
      "\u001B[1;31mInvalidToken\u001B[0m: "
     ]
    }
   ],
   "execution_count": 9
  },
  {
   "metadata": {},
   "cell_type": "code",
   "outputs": [],
   "execution_count": null,
   "source": [
    "from sklearn.ensemble import IsolationForest\n",
    "import matplotlib.pyplot as plt\n",
    "\n",
    "# Load preprocessed data\n",
    "df = pd.read_csv(\"keystroke_data.csv\")\n",
    "\n",
    "# Train Isolation Forest model\n",
    "model = IsolationForest(contamination=0.1, random_state=42)\n",
    "df[\"Anomaly\"] = model.fit_predict(df)\n",
    "\n",
    "# Visualize anomalies\n",
    "plt.scatter(df.index, df[\"Hold Time\"], c=df[\"Anomaly\"], cmap=\"coolwarm\")\n",
    "plt.title(\"Anomaly Detection in Keystroke Timing\")\n",
    "plt.xlabel(\"Keystroke Index\")\n",
    "plt.ylabel(\"Hold Time (seconds)\")\n",
    "plt.show()"
   ],
   "id": "10a6e245cca75549"
  },
  {
   "metadata": {
    "ExecuteTime": {
     "end_time": "2024-12-27T09:41:09.496767Z",
     "start_time": "2024-12-27T09:41:09.444535Z"
    }
   },
   "cell_type": "code",
   "source": [
    "from tensorflow.keras.models import Sequential\n",
    "from tensorflow.keras.layers import LSTM, Dense\n",
    "from sklearn.preprocessing import MinMaxScaler\n",
    "\n",
    "# Normalize data\n",
    "scaler = MinMaxScaler()\n",
    "scaled_data = scaler.fit_transform(df[[\"Hold Time\", \"Flight Time\"]])\n",
    "\n",
    "# Prepare sequences\n",
    "def create_sequences(data, seq_length):\n",
    "    xs, ys = [], []\n",
    "    for i in range(len(data) - seq_length):\n",
    "        xs.append(data[i:i+seq_length])\n",
    "        ys.append(data[i+seq_length])\n",
    "    return np.array(xs), np.array(ys)\n",
    "\n",
    "seq_length = 10\n",
    "X, y = create_sequences(scaled_data, seq_length)\n",
    "\n",
    "# Build LSTM model\n",
    "model = Sequential([\n",
    "    LSTM(50, activation=\"relu\", input_shape=(seq_length, 2)),\n",
    "    Dense(2)\n",
    "])\n",
    "model.compile(optimizer=\"adam\", loss=\"mse\")\n",
    "\n",
    "# Train the model\n",
    "model.fit(X, y, epochs=20, batch_size=32)\n",
    "\n",
    "# Predict and detect anomalies\n",
    "predictions = model.predict(X)\n",
    "mse = np.mean(np.square(predictions - y), axis=1)\n",
    "df[\"Anomaly\"] = mse > np.percentile(mse, 95)\n",
    "\n",
    "# Visualize anomalies\n",
    "plt.scatter(df.index[seq_length:], df[\"Hold Time\"][seq_length:], c=df[\"Anomaly\"][seq_length:], cmap=\"coolwarm\")\n",
    "plt.title(\"Anomaly Detection in Keystroke Timing (LSTM)\")\n",
    "plt.xlabel(\"Keystroke Index\")\n",
    "plt.ylabel(\"Hold Time (seconds)\")\n",
    "plt.show()"
   ],
   "id": "198f1e1192af6c07",
   "outputs": [
    {
     "ename": "ModuleNotFoundError",
     "evalue": "No module named 'tensorflow'",
     "output_type": "error",
     "traceback": [
      "\u001B[1;31m---------------------------------------------------------------------------\u001B[0m",
      "\u001B[1;31mModuleNotFoundError\u001B[0m                       Traceback (most recent call last)",
      "Cell \u001B[1;32mIn[3], line 1\u001B[0m\n\u001B[1;32m----> 1\u001B[0m \u001B[38;5;28;01mfrom\u001B[39;00m \u001B[38;5;21;01mtensorflow\u001B[39;00m\u001B[38;5;21;01m.\u001B[39;00m\u001B[38;5;21;01mkeras\u001B[39;00m\u001B[38;5;21;01m.\u001B[39;00m\u001B[38;5;21;01mmodels\u001B[39;00m \u001B[38;5;28;01mimport\u001B[39;00m Sequential\n\u001B[0;32m      2\u001B[0m \u001B[38;5;28;01mfrom\u001B[39;00m \u001B[38;5;21;01mtensorflow\u001B[39;00m\u001B[38;5;21;01m.\u001B[39;00m\u001B[38;5;21;01mkeras\u001B[39;00m\u001B[38;5;21;01m.\u001B[39;00m\u001B[38;5;21;01mlayers\u001B[39;00m \u001B[38;5;28;01mimport\u001B[39;00m LSTM, Dense\n\u001B[0;32m      3\u001B[0m \u001B[38;5;28;01mfrom\u001B[39;00m \u001B[38;5;21;01msklearn\u001B[39;00m\u001B[38;5;21;01m.\u001B[39;00m\u001B[38;5;21;01mpreprocessing\u001B[39;00m \u001B[38;5;28;01mimport\u001B[39;00m MinMaxScaler\n",
      "\u001B[1;31mModuleNotFoundError\u001B[0m: No module named 'tensorflow'"
     ]
    }
   ],
   "execution_count": 3
  },
  {
   "metadata": {},
   "cell_type": "code",
   "outputs": [],
   "execution_count": null,
   "source": "",
   "id": "7507e9113098ac85"
  }
 ],
 "metadata": {
  "kernelspec": {
   "display_name": "Python 3",
   "language": "python",
   "name": "python3"
  },
  "language_info": {
   "codemirror_mode": {
    "name": "ipython",
    "version": 2
   },
   "file_extension": ".py",
   "mimetype": "text/x-python",
   "name": "python",
   "nbconvert_exporter": "python",
   "pygments_lexer": "ipython2",
   "version": "2.7.6"
  }
 },
 "nbformat": 4,
 "nbformat_minor": 5
}
